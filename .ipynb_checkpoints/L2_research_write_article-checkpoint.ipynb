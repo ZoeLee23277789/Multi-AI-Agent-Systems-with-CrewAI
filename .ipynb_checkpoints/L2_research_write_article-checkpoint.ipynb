{
 "cells": [
  {
   "cell_type": "markdown",
   "metadata": {},
   "source": [
    "You can download the `requirements.txt` for this course from the workspace of this lab. `File --> Open...`"
   ]
  },
  {
   "cell_type": "markdown",
   "metadata": {},
   "source": [
    "# L2: Create Agents to Research and Write an Article\n",
    "\n",
    "In this lesson, you will be introduced to the foundational concepts of multi-agent systems and get an overview of the crewAI framework."
   ]
  },
  {
   "cell_type": "markdown",
   "metadata": {},
   "source": [
    "The libraries are already installed in the classroom. If you're running this notebook on your own machine, you can install the following:\n",
    "```Python\n",
    "!pip install crewai==0.28.8 crewai_tools==0.1.6 langchain_community==0.0.29\n",
    "```"
   ]
  },
  {
   "cell_type": "code",
   "execution_count": 1,
   "metadata": {
    "height": 64
   },
   "outputs": [],
   "source": [
    "# Warning control\n",
    "import warnings\n",
    "warnings.filterwarnings('ignore')"
   ]
  },
  {
   "cell_type": "markdown",
   "metadata": {},
   "source": [
    "- Import from the crewAI libray."
   ]
  },
  {
   "cell_type": "code",
   "execution_count": 2,
   "metadata": {
    "height": 30
   },
   "outputs": [],
   "source": [
    "from crewai import Agent, Task, Crew"
   ]
  },
  {
   "cell_type": "markdown",
   "metadata": {},
   "source": [
    "- As a LLM for your agents, you'll be using OpenAI's `gpt-3.5-turbo`.\n",
    "\n",
    "**Optional Note:** crewAI also allow other popular models to be used as a LLM for your Agents. You can see some of the examples at the [bottom of the notebook](#1)."
   ]
  },
  {
   "cell_type": "code",
   "execution_count": 3,
   "metadata": {
    "height": 98
   },
   "outputs": [],
   "source": [
    "import os\n",
    "from utils import get_openai_api_key\n",
    "\n",
    "openai_api_key = get_openai_api_key()\n",
    "os.environ[\"OPENAI_MODEL_NAME\"] = 'gpt-3.5-turbo'"
   ]
  },
  {
   "cell_type": "markdown",
   "metadata": {},
   "source": [
    "## Creating Agents\n",
    "\n",
    "- Define your Agents, and provide them a `role`, `goal` and `backstory`.\n",
    "- It has been seen that LLMs perform better when they are role playing."
   ]
  },
  {
   "cell_type": "markdown",
   "metadata": {},
   "source": [
    "### Agent: Planner\n",
    "\n",
    "**Note**: The benefit of using _multiple strings_ :\n",
    "```Python\n",
    "varname = \"line 1 of text\"\n",
    "          \"line 2 of text\"\n",
    "```\n",
    "\n",
    "versus the _triple quote docstring_:\n",
    "```Python\n",
    "varname = \"\"\"line 1 of text\n",
    "             line 2 of text\n",
    "          \"\"\"\n",
    "```\n",
    "is that it can avoid adding those whitespaces and newline characters, making it better formatted to be passed to the LLM."
   ]
  },
  {
   "cell_type": "code",
   "execution_count": 4,
   "metadata": {
    "height": 249
   },
   "outputs": [],
   "source": [
    "planner = Agent(\n",
    "    role=\"Content Planner\",\n",
    "    goal=\"Plan engaging and factually accurate content on {topic}\",\n",
    "    backstory=\"You're working on planning a blog article \"\n",
    "              \"about the topic: {topic}.\"\n",
    "              \"You collect information that helps the \"\n",
    "              \"audience learn something \"\n",
    "              \"and make informed decisions. \"\n",
    "              \"Your work is the basis for \"\n",
    "              \"the Content Writer to write an article on this topic.\",\n",
    "    allow_delegation=False,\n",
    "\tverbose=True\n",
    ")"
   ]
  },
  {
   "cell_type": "markdown",
   "metadata": {},
   "source": [
    "### Agent: Writer"
   ]
  },
  {
   "cell_type": "code",
   "execution_count": 5,
   "metadata": {
    "height": 385
   },
   "outputs": [],
   "source": [
    "writer = Agent(\n",
    "    role=\"Content Writer\",\n",
    "    goal=\"Write insightful and factually accurate \"\n",
    "         \"opinion piece about the topic: {topic}\",\n",
    "    backstory=\"You're working on a writing \"\n",
    "              \"a new opinion piece about the topic: {topic}. \"\n",
    "              \"You base your writing on the work of \"\n",
    "              \"the Content Planner, who provides an outline \"\n",
    "              \"and relevant context about the topic. \"\n",
    "              \"You follow the main objectives and \"\n",
    "              \"direction of the outline, \"\n",
    "              \"as provide by the Content Planner. \"\n",
    "              \"You also provide objective and impartial insights \"\n",
    "              \"and back them up with information \"\n",
    "              \"provide by the Content Planner. \"\n",
    "              \"You acknowledge in your opinion piece \"\n",
    "              \"when your statements are opinions \"\n",
    "              \"as opposed to objective statements.\",\n",
    "    allow_delegation=False,\n",
    "    verbose=True\n",
    ")"
   ]
  },
  {
   "cell_type": "markdown",
   "metadata": {},
   "source": [
    "### Agent: Editor"
   ]
  },
  {
   "cell_type": "code",
   "execution_count": 6,
   "metadata": {
    "height": 283
   },
   "outputs": [],
   "source": [
    "editor = Agent(\n",
    "    role=\"Editor\",\n",
    "    goal=\"Edit a given blog post to align with \"\n",
    "         \"the writing style of the organization. \",\n",
    "    backstory=\"You are an editor who receives a blog post \"\n",
    "              \"from the Content Writer. \"\n",
    "              \"Your goal is to review the blog post \"\n",
    "              \"to ensure that it follows journalistic best practices,\"\n",
    "              \"provides balanced viewpoints \"\n",
    "              \"when providing opinions or assertions, \"\n",
    "              \"and also avoids major controversial topics \"\n",
    "              \"or opinions when possible.\",\n",
    "    allow_delegation=False,\n",
    "    verbose=True\n",
    ")"
   ]
  },
  {
   "cell_type": "markdown",
   "metadata": {},
   "source": [
    "## Creating Tasks\n",
    "\n",
    "- Define your Tasks, and provide them a `description`, `expected_output` and `agent`."
   ]
  },
  {
   "cell_type": "markdown",
   "metadata": {},
   "source": [
    "### Task: Plan"
   ]
  },
  {
   "cell_type": "code",
   "execution_count": 7,
   "metadata": {
    "height": 283
   },
   "outputs": [],
   "source": [
    "plan = Task(\n",
    "    description=(\n",
    "        \"1. Prioritize the latest trends, key players, \"\n",
    "            \"and noteworthy news on {topic}.\\n\"\n",
    "        \"2. Identify the target audience, considering \"\n",
    "            \"their interests and pain points.\\n\"\n",
    "        \"3. Develop a detailed content outline including \"\n",
    "            \"an introduction, key points, and a call to action.\\n\"\n",
    "        \"4. Include SEO keywords and relevant data or sources.\"\n",
    "    ),\n",
    "    expected_output=\"A comprehensive content plan document \"\n",
    "        \"with an outline, audience analysis, \"\n",
    "        \"SEO keywords, and resources.\",\n",
    "    agent=planner,\n",
    ")"
   ]
  },
  {
   "cell_type": "markdown",
   "metadata": {},
   "source": [
    "### Task: Write"
   ]
  },
  {
   "cell_type": "code",
   "execution_count": 8,
   "metadata": {
    "height": 334
   },
   "outputs": [],
   "source": [
    "write = Task(\n",
    "    description=(\n",
    "        \"1. Use the content plan to craft a compelling \"\n",
    "            \"blog post on {topic}.\\n\"\n",
    "        \"2. Incorporate SEO keywords naturally.\\n\"\n",
    "\t\t\"3. Sections/Subtitles are properly named \"\n",
    "            \"in an engaging manner.\\n\"\n",
    "        \"4. Ensure the post is structured with an \"\n",
    "            \"engaging introduction, insightful body, \"\n",
    "            \"and a summarizing conclusion.\\n\"\n",
    "        \"5. Proofread for grammatical errors and \"\n",
    "            \"alignment with the brand's voice.\\n\"\n",
    "    ),\n",
    "    expected_output=\"A well-written blog post \"\n",
    "        \"in markdown format, ready for publication, \"\n",
    "        \"each section should have 2 or 3 paragraphs.\",\n",
    "    agent=writer,\n",
    ")"
   ]
  },
  {
   "cell_type": "markdown",
   "metadata": {},
   "source": [
    "### Task: Edit"
   ]
  },
  {
   "cell_type": "code",
   "execution_count": 9,
   "metadata": {
    "height": 181
   },
   "outputs": [],
   "source": [
    "edit = Task(\n",
    "    description=(\"Proofread the given blog post for \"\n",
    "                 \"grammatical errors and \"\n",
    "                 \"alignment with the brand's voice.\"),\n",
    "    expected_output=\"A well-written blog post in markdown format, \"\n",
    "                    \"ready for publication, \"\n",
    "                    \"each section should have 2 or 3 paragraphs.\",\n",
    "    agent=editor\n",
    ")"
   ]
  },
  {
   "cell_type": "markdown",
   "metadata": {},
   "source": [
    "## Creating the Crew\n",
    "\n",
    "- Create your crew of Agents\n",
    "- Pass the tasks to be performed by those agents.\n",
    "    - **Note**: *For this simple example*, the tasks will be performed sequentially (i.e they are dependent on each other), so the _order_ of the task in the list _matters_.\n",
    "- `verbose=2` allows you to see all the logs of the execution. "
   ]
  },
  {
   "cell_type": "code",
   "execution_count": 10,
   "metadata": {
    "height": 98
   },
   "outputs": [],
   "source": [
    "crew = Crew(\n",
    "    agents=[planner, writer, editor],\n",
    "    tasks=[plan, write, edit],\n",
    "    verbose=2\n",
    ")"
   ]
  },
  {
   "cell_type": "markdown",
   "metadata": {},
   "source": [
    "## Running the Crew"
   ]
  },
  {
   "cell_type": "markdown",
   "metadata": {},
   "source": [
    "**Note**: LLMs can provide different outputs for they same input, so what you get might be different than what you see in the video."
   ]
  },
  {
   "cell_type": "code",
   "execution_count": 11,
   "metadata": {
    "height": 45
   },
   "outputs": [
    {
     "name": "stdout",
     "output_type": "stream",
     "text": [
      "\u001b[1m\u001b[95m [DEBUG]: == Working Agent: Content Planner\u001b[00m\n",
      "\u001b[1m\u001b[95m [INFO]: == Starting Task: 1. Prioritize the latest trends, key players, and noteworthy news on Artificial Intelligence.\n",
      "2. Identify the target audience, considering their interests and pain points.\n",
      "3. Develop a detailed content outline including an introduction, key points, and a call to action.\n",
      "4. Include SEO keywords and relevant data or sources.\u001b[00m\n",
      "\n",
      "\n",
      "\u001b[1m> Entering new CrewAgentExecutor chain...\u001b[0m\n",
      "\u001b[32;1m\u001b[1;3mI now can give a great answer\n",
      "\n",
      "Final Answer:\n",
      "Title: The Future of Artificial Intelligence: Latest Trends, Key Players, and Noteworthy News\n",
      "\n",
      "Outline:\n",
      "I. Introduction\n",
      "- Definition of Artificial Intelligence\n",
      "- Importance of AI in today's technological landscape\n",
      "\n",
      "II. Latest Trends in Artificial Intelligence\n",
      "- Machine learning advancements\n",
      "- Natural language processing developments\n",
      "- AI in healthcare and autonomous vehicles\n",
      "\n",
      "III. Key Players in the AI Industry\n",
      "- Google DeepMind\n",
      "- IBM Watson\n",
      "- Microsoft Azure AI\n",
      "- Amazon Web Services AI\n",
      "\n",
      "IV. Noteworthy News in Artificial Intelligence\n",
      "- Breakthroughs in AI ethics and bias\n",
      "- AI applications in climate change research\n",
      "- Impact of AI on job automation and workforce transformation\n",
      "\n",
      "V. Target Audience Analysis\n",
      "- Tech-savvy individuals interested in AI advancements\n",
      "- Business professionals looking to implement AI solutions\n",
      "- Students and researchers studying AI technologies\n",
      "\n",
      "VI. SEO Keywords\n",
      "- Artificial Intelligence trends\n",
      "- Key players in AI industry\n",
      "- Latest news in AI\n",
      "- Future of AI technology\n",
      "\n",
      "VII. Resources\n",
      "1. \"The Rise of Artificial Intelligence: Key Trends to Watch\" - Forbes\n",
      "2. \"Artificial Intelligence: The Future of Technology\" - Harvard Business Review\n",
      "3. \"AI Superpowers: China, Silicon Valley, and the New World Order\" - Book by Kai-Fu Lee\n",
      "\n",
      "Call to Action: Stay informed about the latest trends and advancements in Artificial Intelligence by subscribing to our newsletter for regular updates and insights.\n",
      "\n",
      "This comprehensive content plan document includes an outline detailing the latest trends, key players, and noteworthy news in Artificial Intelligence. The target audience analysis considers the interests and pain points of tech-savvy individuals, business professionals, and students/researchers. SEO keywords are strategically incorporated throughout the outline, and relevant resources are provided for further reading. The call to action encourages engagement and ongoing interest in the topic of AI.\u001b[0m\n",
      "\n",
      "\u001b[1m> Finished chain.\u001b[0m\n",
      "\u001b[1m\u001b[92m [DEBUG]: == [Content Planner] Task output: Title: The Future of Artificial Intelligence: Latest Trends, Key Players, and Noteworthy News\n",
      "\n",
      "Outline:\n",
      "I. Introduction\n",
      "- Definition of Artificial Intelligence\n",
      "- Importance of AI in today's technological landscape\n",
      "\n",
      "II. Latest Trends in Artificial Intelligence\n",
      "- Machine learning advancements\n",
      "- Natural language processing developments\n",
      "- AI in healthcare and autonomous vehicles\n",
      "\n",
      "III. Key Players in the AI Industry\n",
      "- Google DeepMind\n",
      "- IBM Watson\n",
      "- Microsoft Azure AI\n",
      "- Amazon Web Services AI\n",
      "\n",
      "IV. Noteworthy News in Artificial Intelligence\n",
      "- Breakthroughs in AI ethics and bias\n",
      "- AI applications in climate change research\n",
      "- Impact of AI on job automation and workforce transformation\n",
      "\n",
      "V. Target Audience Analysis\n",
      "- Tech-savvy individuals interested in AI advancements\n",
      "- Business professionals looking to implement AI solutions\n",
      "- Students and researchers studying AI technologies\n",
      "\n",
      "VI. SEO Keywords\n",
      "- Artificial Intelligence trends\n",
      "- Key players in AI industry\n",
      "- Latest news in AI\n",
      "- Future of AI technology\n",
      "\n",
      "VII. Resources\n",
      "1. \"The Rise of Artificial Intelligence: Key Trends to Watch\" - Forbes\n",
      "2. \"Artificial Intelligence: The Future of Technology\" - Harvard Business Review\n",
      "3. \"AI Superpowers: China, Silicon Valley, and the New World Order\" - Book by Kai-Fu Lee\n",
      "\n",
      "Call to Action: Stay informed about the latest trends and advancements in Artificial Intelligence by subscribing to our newsletter for regular updates and insights.\n",
      "\n",
      "This comprehensive content plan document includes an outline detailing the latest trends, key players, and noteworthy news in Artificial Intelligence. The target audience analysis considers the interests and pain points of tech-savvy individuals, business professionals, and students/researchers. SEO keywords are strategically incorporated throughout the outline, and relevant resources are provided for further reading. The call to action encourages engagement and ongoing interest in the topic of AI.\n",
      "\n",
      "\u001b[00m\n",
      "\u001b[1m\u001b[95m [DEBUG]: == Working Agent: Content Writer\u001b[00m\n",
      "\u001b[1m\u001b[95m [INFO]: == Starting Task: 1. Use the content plan to craft a compelling blog post on Artificial Intelligence.\n",
      "2. Incorporate SEO keywords naturally.\n",
      "3. Sections/Subtitles are properly named in an engaging manner.\n",
      "4. Ensure the post is structured with an engaging introduction, insightful body, and a summarizing conclusion.\n",
      "5. Proofread for grammatical errors and alignment with the brand's voice.\n",
      "\u001b[00m\n",
      "\n",
      "\n",
      "\u001b[1m> Entering new CrewAgentExecutor chain...\u001b[0m\n",
      "\u001b[32;1m\u001b[1;3mI now can give a great answer\n",
      "\n",
      "Final Answer:\n",
      "\n",
      "# The Future of Artificial Intelligence: Latest Trends, Key Players, and Noteworthy News\n",
      "\n",
      "## Introduction\n",
      "Artificial Intelligence (AI) is a rapidly evolving field that encompasses the development of intelligent machines capable of performing tasks that typically require human intelligence. In today's technological landscape, AI plays a crucial role in driving innovation across various industries. From enhancing efficiency to revolutionizing decision-making processes, AI has become a cornerstone of modern-day advancements.\n",
      "\n",
      "## Latest Trends in Artificial Intelligence\n",
      "The latest trends in AI focus on advancements in machine learning, which enable systems to learn from data and improve their performance without being explicitly programmed. Additionally, natural language processing developments have facilitated the interaction between humans and machines, leading to the creation of virtual assistants and chatbots. Moreover, AI is making significant strides in healthcare, where it is being used to analyze medical images, predict patient outcomes, and personalize treatment plans. In the realm of autonomous vehicles, AI is revolutionizing transportation by enabling self-driving cars to navigate roads safely and efficiently.\n",
      "\n",
      "## Key Players in the AI Industry\n",
      "Several key players are driving the AI industry forward, including Google DeepMind, known for its breakthroughs in deep learning and reinforcement learning. IBM Watson is another prominent player, offering cognitive computing solutions that leverage AI to analyze large amounts of data and extract valuable insights. Microsoft Azure AI provides a comprehensive suite of AI services, ranging from natural language processing to computer vision. Amazon Web Services AI is also a major player in the industry, offering scalable and cost-effective AI solutions for businesses of all sizes.\n",
      "\n",
      "## Noteworthy News in Artificial Intelligence\n",
      "Recent developments in AI ethics and bias have sparked conversations about the responsible use of AI technology and the importance of addressing ethical considerations. AI applications in climate change research have shown promise in analyzing environmental data and predicting future trends to mitigate the impact of climate change. Furthermore, the impact of AI on job automation and workforce transformation has raised concerns about the future of work and the need for upskilling and reskilling to adapt to a changing labor market.\n",
      "\n",
      "## Target Audience Analysis\n",
      "The target audience for AI-related content includes tech-savvy individuals interested in staying informed about the latest advancements in the field. Business professionals looking to implement AI solutions in their organizations can benefit from insights into key trends and developments. Additionally, students and researchers studying AI technologies can gain valuable knowledge from in-depth analysis of industry news and advancements.\n",
      "\n",
      "## SEO Keywords\n",
      "Artificial Intelligence trends, Key players in AI industry, Latest news in AI, Future of AI technology\n",
      "\n",
      "## Resources\n",
      "1. \"The Rise of Artificial Intelligence: Key Trends to Watch\" - Forbes\n",
      "2. \"Artificial Intelligence: The Future of Technology\" - Harvard Business Review\n",
      "3. \"AI Superpowers: China, Silicon Valley, and the New World Order\" - Book by Kai-Fu Lee\n",
      "\n",
      "**Call to Action:** Stay informed about the latest trends and advancements in Artificial Intelligence by subscribing to our newsletter for regular updates and insights.\u001b[0m\n",
      "\n",
      "\u001b[1m> Finished chain.\u001b[0m\n",
      "\u001b[1m\u001b[92m [DEBUG]: == [Content Writer] Task output: # The Future of Artificial Intelligence: Latest Trends, Key Players, and Noteworthy News\n",
      "\n",
      "## Introduction\n",
      "Artificial Intelligence (AI) is a rapidly evolving field that encompasses the development of intelligent machines capable of performing tasks that typically require human intelligence. In today's technological landscape, AI plays a crucial role in driving innovation across various industries. From enhancing efficiency to revolutionizing decision-making processes, AI has become a cornerstone of modern-day advancements.\n",
      "\n",
      "## Latest Trends in Artificial Intelligence\n",
      "The latest trends in AI focus on advancements in machine learning, which enable systems to learn from data and improve their performance without being explicitly programmed. Additionally, natural language processing developments have facilitated the interaction between humans and machines, leading to the creation of virtual assistants and chatbots. Moreover, AI is making significant strides in healthcare, where it is being used to analyze medical images, predict patient outcomes, and personalize treatment plans. In the realm of autonomous vehicles, AI is revolutionizing transportation by enabling self-driving cars to navigate roads safely and efficiently.\n",
      "\n",
      "## Key Players in the AI Industry\n",
      "Several key players are driving the AI industry forward, including Google DeepMind, known for its breakthroughs in deep learning and reinforcement learning. IBM Watson is another prominent player, offering cognitive computing solutions that leverage AI to analyze large amounts of data and extract valuable insights. Microsoft Azure AI provides a comprehensive suite of AI services, ranging from natural language processing to computer vision. Amazon Web Services AI is also a major player in the industry, offering scalable and cost-effective AI solutions for businesses of all sizes.\n",
      "\n",
      "## Noteworthy News in Artificial Intelligence\n",
      "Recent developments in AI ethics and bias have sparked conversations about the responsible use of AI technology and the importance of addressing ethical considerations. AI applications in climate change research have shown promise in analyzing environmental data and predicting future trends to mitigate the impact of climate change. Furthermore, the impact of AI on job automation and workforce transformation has raised concerns about the future of work and the need for upskilling and reskilling to adapt to a changing labor market.\n",
      "\n",
      "## Target Audience Analysis\n",
      "The target audience for AI-related content includes tech-savvy individuals interested in staying informed about the latest advancements in the field. Business professionals looking to implement AI solutions in their organizations can benefit from insights into key trends and developments. Additionally, students and researchers studying AI technologies can gain valuable knowledge from in-depth analysis of industry news and advancements.\n",
      "\n",
      "## SEO Keywords\n",
      "Artificial Intelligence trends, Key players in AI industry, Latest news in AI, Future of AI technology\n",
      "\n",
      "## Resources\n",
      "1. \"The Rise of Artificial Intelligence: Key Trends to Watch\" - Forbes\n",
      "2. \"Artificial Intelligence: The Future of Technology\" - Harvard Business Review\n",
      "3. \"AI Superpowers: China, Silicon Valley, and the New World Order\" - Book by Kai-Fu Lee\n",
      "\n",
      "**Call to Action:** Stay informed about the latest trends and advancements in Artificial Intelligence by subscribing to our newsletter for regular updates and insights.\n",
      "\n",
      "\u001b[00m\n",
      "\u001b[1m\u001b[95m [DEBUG]: == Working Agent: Editor\u001b[00m\n",
      "\u001b[1m\u001b[95m [INFO]: == Starting Task: Proofread the given blog post for grammatical errors and alignment with the brand's voice.\u001b[00m\n",
      "\n",
      "\n",
      "\u001b[1m> Entering new CrewAgentExecutor chain...\u001b[0m\n",
      "\u001b[32;1m\u001b[1;3mI now can give a great answer\n",
      "\n",
      "Final Answer: \n",
      "\n",
      "# The Future of Artificial Intelligence: Latest Trends, Key Players, and Noteworthy News\n",
      "\n",
      "## Introduction\n",
      "Artificial Intelligence (AI) continues to advance rapidly, shaping industries and revolutionizing processes that were once exclusive to human intelligence. In today's digital age, AI stands as a driving force behind innovation, offering solutions that enhance efficiency and transform decision-making across various sectors.\n",
      "\n",
      "## Latest Trends in Artificial Intelligence\n",
      "The latest trends in AI are centered around machine learning advancements, empowering systems to learn from data and enhance performance without explicit programming. Progress in natural language processing has paved the way for seamless human-machine interactions, giving rise to virtual assistants and chatbots. Furthermore, AI is making significant strides in healthcare by analyzing medical images, predicting patient outcomes, and personalizing treatment plans. In the realm of autonomous vehicles, AI is reshaping transportation by enabling self-driving cars to navigate roads safely and efficiently.\n",
      "\n",
      "## Key Players in the AI Industry\n",
      "Leading the charge in the AI industry are key players such as Google DeepMind, renowned for its breakthroughs in deep learning and reinforcement learning. IBM Watson is another prominent figure, providing cognitive computing solutions that harness AI to analyze vast amounts of data and extract valuable insights. Microsoft Azure AI offers a comprehensive suite of AI services, spanning natural language processing to computer vision. Amazon Web Services AI also plays a significant role, delivering scalable and cost-effective AI solutions for businesses of all sizes.\n",
      "\n",
      "## Noteworthy News in Artificial Intelligence\n",
      "Recent advancements in AI ethics and bias have sparked discussions on the responsible use of AI technology and the significance of addressing ethical considerations. AI applications in climate change research are showing promise in analyzing environmental data and predicting future trends to combat the impact of climate change. Additionally, the implications of AI on job automation and workforce evolution have raised concerns about the future of work, emphasizing the necessity for upskilling and reskilling to adapt to a shifting labor market.\n",
      "\n",
      "## Target Audience Analysis\n",
      "The target audience for AI-related content comprises tech-savvy individuals seeking to stay abreast of the latest advancements in the field. Business professionals aiming to integrate AI solutions into their organizations can glean insights into key trends and developments. Furthermore, students and researchers studying AI technologies can acquire valuable knowledge from in-depth analyses of industry news and advancements.\n",
      "\n",
      "## SEO Keywords\n",
      "Artificial Intelligence trends, Key players in AI industry, Latest news in AI, Future of AI technology\n",
      "\n",
      "## Resources\n",
      "1. \"The Rise of Artificial Intelligence: Key Trends to Watch\" - Forbes\n",
      "2. \"Artificial Intelligence: The Future of Technology\" - Harvard Business Review\n",
      "3. \"AI Superpowers: China, Silicon Valley, and the New World Order\" - Book by Kai-Fu Lee\n",
      "\n",
      "**Call to Action:** Stay informed about the latest trends and advancements in Artificial Intelligence by subscribing to our newsletter for regular updates and insights.\u001b[0m\n",
      "\n",
      "\u001b[1m> Finished chain.\u001b[0m\n",
      "\u001b[1m\u001b[92m [DEBUG]: == [Editor] Task output: # The Future of Artificial Intelligence: Latest Trends, Key Players, and Noteworthy News\n",
      "\n",
      "## Introduction\n",
      "Artificial Intelligence (AI) continues to advance rapidly, shaping industries and revolutionizing processes that were once exclusive to human intelligence. In today's digital age, AI stands as a driving force behind innovation, offering solutions that enhance efficiency and transform decision-making across various sectors.\n",
      "\n",
      "## Latest Trends in Artificial Intelligence\n",
      "The latest trends in AI are centered around machine learning advancements, empowering systems to learn from data and enhance performance without explicit programming. Progress in natural language processing has paved the way for seamless human-machine interactions, giving rise to virtual assistants and chatbots. Furthermore, AI is making significant strides in healthcare by analyzing medical images, predicting patient outcomes, and personalizing treatment plans. In the realm of autonomous vehicles, AI is reshaping transportation by enabling self-driving cars to navigate roads safely and efficiently.\n",
      "\n",
      "## Key Players in the AI Industry\n",
      "Leading the charge in the AI industry are key players such as Google DeepMind, renowned for its breakthroughs in deep learning and reinforcement learning. IBM Watson is another prominent figure, providing cognitive computing solutions that harness AI to analyze vast amounts of data and extract valuable insights. Microsoft Azure AI offers a comprehensive suite of AI services, spanning natural language processing to computer vision. Amazon Web Services AI also plays a significant role, delivering scalable and cost-effective AI solutions for businesses of all sizes.\n",
      "\n",
      "## Noteworthy News in Artificial Intelligence\n",
      "Recent advancements in AI ethics and bias have sparked discussions on the responsible use of AI technology and the significance of addressing ethical considerations. AI applications in climate change research are showing promise in analyzing environmental data and predicting future trends to combat the impact of climate change. Additionally, the implications of AI on job automation and workforce evolution have raised concerns about the future of work, emphasizing the necessity for upskilling and reskilling to adapt to a shifting labor market.\n",
      "\n",
      "## Target Audience Analysis\n",
      "The target audience for AI-related content comprises tech-savvy individuals seeking to stay abreast of the latest advancements in the field. Business professionals aiming to integrate AI solutions into their organizations can glean insights into key trends and developments. Furthermore, students and researchers studying AI technologies can acquire valuable knowledge from in-depth analyses of industry news and advancements.\n",
      "\n",
      "## SEO Keywords\n",
      "Artificial Intelligence trends, Key players in AI industry, Latest news in AI, Future of AI technology\n",
      "\n",
      "## Resources\n",
      "1. \"The Rise of Artificial Intelligence: Key Trends to Watch\" - Forbes\n",
      "2. \"Artificial Intelligence: The Future of Technology\" - Harvard Business Review\n",
      "3. \"AI Superpowers: China, Silicon Valley, and the New World Order\" - Book by Kai-Fu Lee\n",
      "\n",
      "**Call to Action:** Stay informed about the latest trends and advancements in Artificial Intelligence by subscribing to our newsletter for regular updates and insights.\n",
      "\n",
      "\u001b[00m\n"
     ]
    }
   ],
   "source": [
    "result = crew.kickoff(inputs={\"topic\": \"Artificial Intelligence\"})"
   ]
  },
  {
   "cell_type": "markdown",
   "metadata": {},
   "source": [
    "- Display the results of your execution as markdown in the notebook."
   ]
  },
  {
   "cell_type": "code",
   "execution_count": 12,
   "metadata": {
    "height": 47
   },
   "outputs": [
    {
     "data": {
      "text/markdown": [
       "# The Future of Artificial Intelligence: Latest Trends, Key Players, and Noteworthy News\n",
       "\n",
       "## Introduction\n",
       "Artificial Intelligence (AI) continues to advance rapidly, shaping industries and revolutionizing processes that were once exclusive to human intelligence. In today's digital age, AI stands as a driving force behind innovation, offering solutions that enhance efficiency and transform decision-making across various sectors.\n",
       "\n",
       "## Latest Trends in Artificial Intelligence\n",
       "The latest trends in AI are centered around machine learning advancements, empowering systems to learn from data and enhance performance without explicit programming. Progress in natural language processing has paved the way for seamless human-machine interactions, giving rise to virtual assistants and chatbots. Furthermore, AI is making significant strides in healthcare by analyzing medical images, predicting patient outcomes, and personalizing treatment plans. In the realm of autonomous vehicles, AI is reshaping transportation by enabling self-driving cars to navigate roads safely and efficiently.\n",
       "\n",
       "## Key Players in the AI Industry\n",
       "Leading the charge in the AI industry are key players such as Google DeepMind, renowned for its breakthroughs in deep learning and reinforcement learning. IBM Watson is another prominent figure, providing cognitive computing solutions that harness AI to analyze vast amounts of data and extract valuable insights. Microsoft Azure AI offers a comprehensive suite of AI services, spanning natural language processing to computer vision. Amazon Web Services AI also plays a significant role, delivering scalable and cost-effective AI solutions for businesses of all sizes.\n",
       "\n",
       "## Noteworthy News in Artificial Intelligence\n",
       "Recent advancements in AI ethics and bias have sparked discussions on the responsible use of AI technology and the significance of addressing ethical considerations. AI applications in climate change research are showing promise in analyzing environmental data and predicting future trends to combat the impact of climate change. Additionally, the implications of AI on job automation and workforce evolution have raised concerns about the future of work, emphasizing the necessity for upskilling and reskilling to adapt to a shifting labor market.\n",
       "\n",
       "## Target Audience Analysis\n",
       "The target audience for AI-related content comprises tech-savvy individuals seeking to stay abreast of the latest advancements in the field. Business professionals aiming to integrate AI solutions into their organizations can glean insights into key trends and developments. Furthermore, students and researchers studying AI technologies can acquire valuable knowledge from in-depth analyses of industry news and advancements.\n",
       "\n",
       "## SEO Keywords\n",
       "Artificial Intelligence trends, Key players in AI industry, Latest news in AI, Future of AI technology\n",
       "\n",
       "## Resources\n",
       "1. \"The Rise of Artificial Intelligence: Key Trends to Watch\" - Forbes\n",
       "2. \"Artificial Intelligence: The Future of Technology\" - Harvard Business Review\n",
       "3. \"AI Superpowers: China, Silicon Valley, and the New World Order\" - Book by Kai-Fu Lee\n",
       "\n",
       "**Call to Action:** Stay informed about the latest trends and advancements in Artificial Intelligence by subscribing to our newsletter for regular updates and insights."
      ],
      "text/plain": [
       "<IPython.core.display.Markdown object>"
      ]
     },
     "execution_count": 12,
     "metadata": {},
     "output_type": "execute_result"
    }
   ],
   "source": [
    "from IPython.display import Markdown\n",
    "Markdown(result)"
   ]
  },
  {
   "cell_type": "markdown",
   "metadata": {},
   "source": [
    "## Try it Yourself\n",
    "\n",
    "- Pass in a topic of your choice and see what the agents come up with!"
   ]
  },
  {
   "cell_type": "code",
   "execution_count": 13,
   "metadata": {
    "height": 47
   },
   "outputs": [
    {
     "name": "stdout",
     "output_type": "stream",
     "text": [
      "\u001b[1m\u001b[95m [DEBUG]: == Working Agent: Content Planner\u001b[00m\n",
      "\u001b[1m\u001b[95m [INFO]: == Starting Task: 1. Prioritize the latest trends, key players, and noteworthy news on How to get the Internship in Taiwan at this summer Vacation.\n",
      "2. Identify the target audience, considering their interests and pain points.\n",
      "3. Develop a detailed content outline including an introduction, key points, and a call to action.\n",
      "4. Include SEO keywords and relevant data or sources.\u001b[00m\n",
      "\n",
      "\n",
      "\u001b[1m> Entering new CrewAgentExecutor chain...\u001b[0m\n",
      "\u001b[32;1m\u001b[1;3mI now can give a great answer\n",
      "\n",
      "Final Answer:\n",
      "\n",
      "Content Plan: How to Get an Internship in Taiwan This Summer Vacation\n",
      "\n",
      "Introduction:\n",
      "- Brief overview of the increasing popularity of internships in Taiwan\n",
      "- Importance of gaining international work experience\n",
      "- Excitement and opportunities that come with interning in Taiwan\n",
      "\n",
      "Key Points:\n",
      "1. Latest Trends:\n",
      "- Growing demand for international internships\n",
      "- Taiwan emerging as a top destination for students and young professionals\n",
      "- Companies in Taiwan seeking diverse talent and fresh perspectives\n",
      "\n",
      "2. Key Players:\n",
      "- Prominent companies offering internships in Taiwan\n",
      "- Universities and organizations facilitating internship programs\n",
      "- Testimonials from past interns highlighting their experiences\n",
      "\n",
      "3. Noteworthy News:\n",
      "- Recent success stories of interns in Taiwan\n",
      "- Updates on visa regulations for foreign interns\n",
      "- Tips from industry experts on securing internships in Taiwan\n",
      "\n",
      "Target Audience:\n",
      "- University students seeking valuable work experience abroad\n",
      "- Recent graduates looking to enhance their resumes\n",
      "- Young professionals wanting to explore career opportunities in Taiwan\n",
      "- Individuals interested in Taiwanese culture and business environment\n",
      "\n",
      "SEO Keywords:\n",
      "- Internship in Taiwan\n",
      "- Summer internship opportunities\n",
      "- Internship programs in Taiwan\n",
      "- How to apply for internships in Taiwan\n",
      "- Benefits of interning in Taiwan\n",
      "\n",
      "Call to Action:\n",
      "- Encourage readers to start researching internship opportunities in Taiwan\n",
      "- Provide resources for finding internships and applying\n",
      "- Suggest networking events and workshops to enhance internship prospects\n",
      "\n",
      "Resources:\n",
      "1. Taiwan Internship Program Directory\n",
      "2. Testimonials from past interns in Taiwan\n",
      "3. Guide to securing a visa for internships in Taiwan\n",
      "4. Industry experts' tips on standing out in internship applications\n",
      "\n",
      "By following this comprehensive content plan, the article on How to Get an Internship in Taiwan This Summer Vacation will provide valuable insights and guidance to the target audience, helping them make informed decisions and take the necessary steps to secure an internship in Taiwan.\u001b[0m\n",
      "\n",
      "\u001b[1m> Finished chain.\u001b[0m\n",
      "\u001b[1m\u001b[92m [DEBUG]: == [Content Planner] Task output: Content Plan: How to Get an Internship in Taiwan This Summer Vacation\n",
      "\n",
      "Introduction:\n",
      "- Brief overview of the increasing popularity of internships in Taiwan\n",
      "- Importance of gaining international work experience\n",
      "- Excitement and opportunities that come with interning in Taiwan\n",
      "\n",
      "Key Points:\n",
      "1. Latest Trends:\n",
      "- Growing demand for international internships\n",
      "- Taiwan emerging as a top destination for students and young professionals\n",
      "- Companies in Taiwan seeking diverse talent and fresh perspectives\n",
      "\n",
      "2. Key Players:\n",
      "- Prominent companies offering internships in Taiwan\n",
      "- Universities and organizations facilitating internship programs\n",
      "- Testimonials from past interns highlighting their experiences\n",
      "\n",
      "3. Noteworthy News:\n",
      "- Recent success stories of interns in Taiwan\n",
      "- Updates on visa regulations for foreign interns\n",
      "- Tips from industry experts on securing internships in Taiwan\n",
      "\n",
      "Target Audience:\n",
      "- University students seeking valuable work experience abroad\n",
      "- Recent graduates looking to enhance their resumes\n",
      "- Young professionals wanting to explore career opportunities in Taiwan\n",
      "- Individuals interested in Taiwanese culture and business environment\n",
      "\n",
      "SEO Keywords:\n",
      "- Internship in Taiwan\n",
      "- Summer internship opportunities\n",
      "- Internship programs in Taiwan\n",
      "- How to apply for internships in Taiwan\n",
      "- Benefits of interning in Taiwan\n",
      "\n",
      "Call to Action:\n",
      "- Encourage readers to start researching internship opportunities in Taiwan\n",
      "- Provide resources for finding internships and applying\n",
      "- Suggest networking events and workshops to enhance internship prospects\n",
      "\n",
      "Resources:\n",
      "1. Taiwan Internship Program Directory\n",
      "2. Testimonials from past interns in Taiwan\n",
      "3. Guide to securing a visa for internships in Taiwan\n",
      "4. Industry experts' tips on standing out in internship applications\n",
      "\n",
      "By following this comprehensive content plan, the article on How to Get an Internship in Taiwan This Summer Vacation will provide valuable insights and guidance to the target audience, helping them make informed decisions and take the necessary steps to secure an internship in Taiwan.\n",
      "\n",
      "\u001b[00m\n",
      "\u001b[1m\u001b[95m [DEBUG]: == Working Agent: Content Writer\u001b[00m\n",
      "\u001b[1m\u001b[95m [INFO]: == Starting Task: 1. Use the content plan to craft a compelling blog post on How to get the Internship in Taiwan at this summer Vacation.\n",
      "2. Incorporate SEO keywords naturally.\n",
      "3. Sections/Subtitles are properly named in an engaging manner.\n",
      "4. Ensure the post is structured with an engaging introduction, insightful body, and a summarizing conclusion.\n",
      "5. Proofread for grammatical errors and alignment with the brand's voice.\n",
      "\u001b[00m\n",
      "\n",
      "\n",
      "\u001b[1m> Entering new CrewAgentExecutor chain...\u001b[0m\n",
      "\u001b[32;1m\u001b[1;3mI now can give a great answer.\n",
      "\n",
      "Final Answer:\n",
      "\n",
      "# How to Secure an Internship in Taiwan This Summer Vacation\n",
      "\n",
      "## Introduction\n",
      "\n",
      "Internships have become increasingly popular among students and young professionals seeking valuable work experience and personal growth. The allure of gaining international work experience has never been stronger, with Taiwan emerging as a top destination for those looking to expand their horizons. The excitement and opportunities that come with interning in Taiwan are unparalleled, making it a coveted choice for individuals eager to explore a new culture and business environment.\n",
      "\n",
      "## Latest Trends\n",
      "\n",
      "In recent years, there has been a growing demand for international internships, with Taiwan standing out as a prime location for students and young professionals alike. Companies in Taiwan are actively seeking diverse talent and fresh perspectives, making it an ideal destination for those looking to enhance their skills and broaden their professional network. The internship landscape in Taiwan is vibrant and dynamic, offering a unique blend of traditional values and modern innovation.\n",
      "\n",
      "## Key Players\n",
      "\n",
      "Prominent companies in Taiwan are offering internships that provide hands-on experience and valuable insights into various industries. Universities and organizations play a vital role in facilitating internship programs, connecting students with opportunities that match their interests and aspirations. Testimonials from past interns highlight the transformative experiences they have had in Taiwan, showcasing the impact of interning in a dynamic and fast-paced environment.\n",
      "\n",
      "## Noteworthy News\n",
      "\n",
      "Recent success stories of interns in Taiwan underscore the immense potential for personal and professional growth in the country. Updates on visa regulations for foreign interns make it easier for individuals to pursue internship opportunities in Taiwan, opening doors to a world of possibilities. Industry experts offer valuable tips on securing internships in Taiwan, emphasizing the importance of standing out and showcasing one's unique skills and experiences.\n",
      "\n",
      "## Conclusion\n",
      "\n",
      "Interning in Taiwan this summer vacation presents a wealth of opportunities for university students, recent graduates, and young professionals looking to gain international work experience. By following the latest trends, connecting with key players in the industry, and staying updated on noteworthy news, individuals can position themselves for success in securing an internship in Taiwan. The benefits of interning in Taiwan extend far beyond professional growth, offering a chance to immerse oneself in a rich culture and vibrant business environment. Start researching internship opportunities in Taiwan today and take the first step towards a transformative experience that will shape your future career.\u001b[0m\n",
      "\n",
      "\u001b[1m> Finished chain.\u001b[0m\n",
      "\u001b[1m\u001b[92m [DEBUG]: == [Content Writer] Task output: # How to Secure an Internship in Taiwan This Summer Vacation\n",
      "\n",
      "## Introduction\n",
      "\n",
      "Internships have become increasingly popular among students and young professionals seeking valuable work experience and personal growth. The allure of gaining international work experience has never been stronger, with Taiwan emerging as a top destination for those looking to expand their horizons. The excitement and opportunities that come with interning in Taiwan are unparalleled, making it a coveted choice for individuals eager to explore a new culture and business environment.\n",
      "\n",
      "## Latest Trends\n",
      "\n",
      "In recent years, there has been a growing demand for international internships, with Taiwan standing out as a prime location for students and young professionals alike. Companies in Taiwan are actively seeking diverse talent and fresh perspectives, making it an ideal destination for those looking to enhance their skills and broaden their professional network. The internship landscape in Taiwan is vibrant and dynamic, offering a unique blend of traditional values and modern innovation.\n",
      "\n",
      "## Key Players\n",
      "\n",
      "Prominent companies in Taiwan are offering internships that provide hands-on experience and valuable insights into various industries. Universities and organizations play a vital role in facilitating internship programs, connecting students with opportunities that match their interests and aspirations. Testimonials from past interns highlight the transformative experiences they have had in Taiwan, showcasing the impact of interning in a dynamic and fast-paced environment.\n",
      "\n",
      "## Noteworthy News\n",
      "\n",
      "Recent success stories of interns in Taiwan underscore the immense potential for personal and professional growth in the country. Updates on visa regulations for foreign interns make it easier for individuals to pursue internship opportunities in Taiwan, opening doors to a world of possibilities. Industry experts offer valuable tips on securing internships in Taiwan, emphasizing the importance of standing out and showcasing one's unique skills and experiences.\n",
      "\n",
      "## Conclusion\n",
      "\n",
      "Interning in Taiwan this summer vacation presents a wealth of opportunities for university students, recent graduates, and young professionals looking to gain international work experience. By following the latest trends, connecting with key players in the industry, and staying updated on noteworthy news, individuals can position themselves for success in securing an internship in Taiwan. The benefits of interning in Taiwan extend far beyond professional growth, offering a chance to immerse oneself in a rich culture and vibrant business environment. Start researching internship opportunities in Taiwan today and take the first step towards a transformative experience that will shape your future career.\n",
      "\n",
      "\u001b[00m\n",
      "\u001b[1m\u001b[95m [DEBUG]: == Working Agent: Editor\u001b[00m\n",
      "\u001b[1m\u001b[95m [INFO]: == Starting Task: Proofread the given blog post for grammatical errors and alignment with the brand's voice.\u001b[00m\n",
      "\n",
      "\n",
      "\u001b[1m> Entering new CrewAgentExecutor chain...\u001b[0m\n",
      "\u001b[32;1m\u001b[1;3mI now can give a great answer\n",
      "\n",
      "Final Answer:\n",
      "\n",
      "# How to Secure an Internship in Taiwan This Summer Vacation\n",
      "\n",
      "## Introduction\n",
      "\n",
      "Internships have become increasingly popular among students and young professionals seeking valuable work experience and personal growth. The allure of gaining international work experience has never been stronger, with Taiwan emerging as a top destination for those looking to expand their horizons. The excitement and opportunities that come with interning in Taiwan are unparalleled, making it a coveted choice for individuals eager to explore a new culture and business environment.\n",
      "\n",
      "## Latest Trends\n",
      "\n",
      "In recent years, there has been a growing demand for international internships, with Taiwan standing out as a prime location for students and young professionals alike. Companies in Taiwan are actively seeking diverse talent and fresh perspectives, making it an ideal destination for those looking to enhance their skills and broaden their professional network. The internship landscape in Taiwan is vibrant and dynamic, offering a unique blend of traditional values and modern innovation.\n",
      "\n",
      "## Key Players\n",
      "\n",
      "Prominent companies in Taiwan are offering internships that provide hands-on experience and valuable insights into various industries. Universities and organizations play a vital role in facilitating internship programs, connecting students with opportunities that match their interests and aspirations. Testimonials from past interns highlight the transformative experiences they have had in Taiwan, showcasing the impact of interning in a dynamic and fast-paced environment.\n",
      "\n",
      "## Noteworthy News\n",
      "\n",
      "Recent success stories of interns in Taiwan underscore the immense potential for personal and professional growth in the country. Updates on visa regulations for foreign interns make it easier for individuals to pursue internship opportunities in Taiwan, opening doors to a world of possibilities. Industry experts offer valuable tips on securing internships in Taiwan, emphasizing the importance of standing out and showcasing one's unique skills and experiences.\n",
      "\n",
      "## Conclusion\n",
      "\n",
      "Interning in Taiwan this summer vacation presents a wealth of opportunities for university students, recent graduates, and young professionals looking to gain international work experience. By following the latest trends, connecting with key players in the industry, and staying updated on noteworthy news, individuals can position themselves for success in securing an internship in Taiwan. The benefits of interning in Taiwan extend far beyond professional growth, offering a chance to immerse oneself in a rich culture and vibrant business environment. Start researching internship opportunities in Taiwan today and take the first step towards a transformative experience that will shape your future career.\u001b[0m\n",
      "\n",
      "\u001b[1m> Finished chain.\u001b[0m\n",
      "\u001b[1m\u001b[92m [DEBUG]: == [Editor] Task output: # How to Secure an Internship in Taiwan This Summer Vacation\n",
      "\n",
      "## Introduction\n",
      "\n",
      "Internships have become increasingly popular among students and young professionals seeking valuable work experience and personal growth. The allure of gaining international work experience has never been stronger, with Taiwan emerging as a top destination for those looking to expand their horizons. The excitement and opportunities that come with interning in Taiwan are unparalleled, making it a coveted choice for individuals eager to explore a new culture and business environment.\n",
      "\n",
      "## Latest Trends\n",
      "\n",
      "In recent years, there has been a growing demand for international internships, with Taiwan standing out as a prime location for students and young professionals alike. Companies in Taiwan are actively seeking diverse talent and fresh perspectives, making it an ideal destination for those looking to enhance their skills and broaden their professional network. The internship landscape in Taiwan is vibrant and dynamic, offering a unique blend of traditional values and modern innovation.\n",
      "\n",
      "## Key Players\n",
      "\n",
      "Prominent companies in Taiwan are offering internships that provide hands-on experience and valuable insights into various industries. Universities and organizations play a vital role in facilitating internship programs, connecting students with opportunities that match their interests and aspirations. Testimonials from past interns highlight the transformative experiences they have had in Taiwan, showcasing the impact of interning in a dynamic and fast-paced environment.\n",
      "\n",
      "## Noteworthy News\n",
      "\n",
      "Recent success stories of interns in Taiwan underscore the immense potential for personal and professional growth in the country. Updates on visa regulations for foreign interns make it easier for individuals to pursue internship opportunities in Taiwan, opening doors to a world of possibilities. Industry experts offer valuable tips on securing internships in Taiwan, emphasizing the importance of standing out and showcasing one's unique skills and experiences.\n",
      "\n",
      "## Conclusion\n",
      "\n",
      "Interning in Taiwan this summer vacation presents a wealth of opportunities for university students, recent graduates, and young professionals looking to gain international work experience. By following the latest trends, connecting with key players in the industry, and staying updated on noteworthy news, individuals can position themselves for success in securing an internship in Taiwan. The benefits of interning in Taiwan extend far beyond professional growth, offering a chance to immerse oneself in a rich culture and vibrant business environment. Start researching internship opportunities in Taiwan today and take the first step towards a transformative experience that will shape your future career.\n",
      "\n",
      "\u001b[00m\n"
     ]
    }
   ],
   "source": [
    "topic = \"How to get the Internship in Taiwan at this summer Vacation\"\n",
    "result = crew.kickoff(inputs={\"topic\": topic})"
   ]
  },
  {
   "cell_type": "code",
   "execution_count": 14,
   "metadata": {
    "height": 30
   },
   "outputs": [
    {
     "data": {
      "text/markdown": [
       "# How to Secure an Internship in Taiwan This Summer Vacation\n",
       "\n",
       "## Introduction\n",
       "\n",
       "Internships have become increasingly popular among students and young professionals seeking valuable work experience and personal growth. The allure of gaining international work experience has never been stronger, with Taiwan emerging as a top destination for those looking to expand their horizons. The excitement and opportunities that come with interning in Taiwan are unparalleled, making it a coveted choice for individuals eager to explore a new culture and business environment.\n",
       "\n",
       "## Latest Trends\n",
       "\n",
       "In recent years, there has been a growing demand for international internships, with Taiwan standing out as a prime location for students and young professionals alike. Companies in Taiwan are actively seeking diverse talent and fresh perspectives, making it an ideal destination for those looking to enhance their skills and broaden their professional network. The internship landscape in Taiwan is vibrant and dynamic, offering a unique blend of traditional values and modern innovation.\n",
       "\n",
       "## Key Players\n",
       "\n",
       "Prominent companies in Taiwan are offering internships that provide hands-on experience and valuable insights into various industries. Universities and organizations play a vital role in facilitating internship programs, connecting students with opportunities that match their interests and aspirations. Testimonials from past interns highlight the transformative experiences they have had in Taiwan, showcasing the impact of interning in a dynamic and fast-paced environment.\n",
       "\n",
       "## Noteworthy News\n",
       "\n",
       "Recent success stories of interns in Taiwan underscore the immense potential for personal and professional growth in the country. Updates on visa regulations for foreign interns make it easier for individuals to pursue internship opportunities in Taiwan, opening doors to a world of possibilities. Industry experts offer valuable tips on securing internships in Taiwan, emphasizing the importance of standing out and showcasing one's unique skills and experiences.\n",
       "\n",
       "## Conclusion\n",
       "\n",
       "Interning in Taiwan this summer vacation presents a wealth of opportunities for university students, recent graduates, and young professionals looking to gain international work experience. By following the latest trends, connecting with key players in the industry, and staying updated on noteworthy news, individuals can position themselves for success in securing an internship in Taiwan. The benefits of interning in Taiwan extend far beyond professional growth, offering a chance to immerse oneself in a rich culture and vibrant business environment. Start researching internship opportunities in Taiwan today and take the first step towards a transformative experience that will shape your future career."
      ],
      "text/plain": [
       "<IPython.core.display.Markdown object>"
      ]
     },
     "execution_count": 14,
     "metadata": {},
     "output_type": "execute_result"
    }
   ],
   "source": [
    "Markdown(result)"
   ]
  },
  {
   "cell_type": "markdown",
   "metadata": {},
   "source": [
    "<a name='1'></a>\n",
    " ## Other Popular Models as LLM for your Agents"
   ]
  },
  {
   "cell_type": "markdown",
   "metadata": {},
   "source": [
    "#### Hugging Face (HuggingFaceHub endpoint)\n",
    "\n",
    "```Python\n",
    "from langchain_community.llms import HuggingFaceHub\n",
    "\n",
    "llm = HuggingFaceHub(\n",
    "    repo_id=\"HuggingFaceH4/zephyr-7b-beta\",\n",
    "    huggingfacehub_api_token=\"<HF_TOKEN_HERE>\",\n",
    "    task=\"text-generation\",\n",
    ")\n",
    "\n",
    "### you will pass \"llm\" to your agent function\n",
    "```"
   ]
  },
  {
   "cell_type": "markdown",
   "metadata": {},
   "source": [
    "#### Mistral API\n",
    "\n",
    "```Python\n",
    "OPENAI_API_KEY=your-mistral-api-key\n",
    "OPENAI_API_BASE=https://api.mistral.ai/v1\n",
    "OPENAI_MODEL_NAME=\"mistral-small\"\n",
    "```"
   ]
  },
  {
   "cell_type": "markdown",
   "metadata": {},
   "source": [
    "#### Cohere\n",
    "\n",
    "```Python\n",
    "from langchain_community.chat_models import ChatCohere\n",
    "# Initialize language model\n",
    "os.environ[\"COHERE_API_KEY\"] = \"your-cohere-api-key\"\n",
    "llm = ChatCohere()\n",
    "\n",
    "### you will pass \"llm\" to your agent function\n",
    "```"
   ]
  },
  {
   "cell_type": "markdown",
   "metadata": {},
   "source": [
    "### For using Llama locally with Ollama and more, checkout the crewAI documentation on [Connecting to any LLM](https://docs.crewai.com/how-to/LLM-Connections/)."
   ]
  },
  {
   "cell_type": "code",
   "execution_count": null,
   "metadata": {
    "height": 30
   },
   "outputs": [],
   "source": []
  },
  {
   "cell_type": "code",
   "execution_count": null,
   "metadata": {
    "height": 30
   },
   "outputs": [],
   "source": []
  },
  {
   "cell_type": "code",
   "execution_count": null,
   "metadata": {
    "height": 30
   },
   "outputs": [],
   "source": []
  }
 ],
 "metadata": {
  "colab": {
   "gpuType": "T4",
   "provenance": []
  },
  "kernelspec": {
   "display_name": "Python 3 (ipykernel)",
   "language": "python",
   "name": "python3"
  },
  "language_info": {
   "codemirror_mode": {
    "name": "ipython",
    "version": 3
   },
   "file_extension": ".py",
   "mimetype": "text/x-python",
   "name": "python",
   "nbconvert_exporter": "python",
   "pygments_lexer": "ipython3",
   "version": "3.11.11"
  }
 },
 "nbformat": 4,
 "nbformat_minor": 4
}
